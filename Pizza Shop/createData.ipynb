{
 "cells": [
  {
   "cell_type": "code",
   "execution_count": 1,
   "metadata": {},
   "outputs": [],
   "source": [
    "import pandas as pd\n",
    "import numpy as np\n",
    "from faker import Factory,Faker\n",
    "import csv"
   ]
  },
  {
   "cell_type": "code",
   "execution_count": 2,
   "metadata": {},
   "outputs": [
    {
     "name": "stdout",
     "output_type": "stream",
     "text": [
      "Collecting faker\n",
      "\u001b[?25l  Downloading https://files.pythonhosted.org/packages/1c/9d/39cc13537ba25a7819bd566d0b0cddfa5570579c194756ac3aff57256dcd/Faker-4.1.0-py3-none-any.whl (1.0MB)\n",
      "\u001b[K     |████████████████████████████████| 1.0MB 2.4MB/s eta 0:00:01\n",
      "\u001b[?25hRequirement already satisfied: python-dateutil>=2.4 in /Users/xiaolin/opt/anaconda3/lib/python3.7/site-packages (from faker) (2.8.0)\n",
      "Collecting text-unidecode==1.3 (from faker)\n",
      "\u001b[?25l  Downloading https://files.pythonhosted.org/packages/a6/a5/c0b6468d3824fe3fde30dbb5e1f687b291608f9473681bbf7dabbf5a87d7/text_unidecode-1.3-py2.py3-none-any.whl (78kB)\n",
      "\u001b[K     |████████████████████████████████| 81kB 4.4MB/s eta 0:00:01\n",
      "\u001b[?25hRequirement already satisfied: six>=1.5 in /Users/xiaolin/opt/anaconda3/lib/python3.7/site-packages (from python-dateutil>=2.4->faker) (1.12.0)\n",
      "Installing collected packages: text-unidecode, faker\n",
      "Successfully installed faker-4.1.0 text-unidecode-1.3\n"
     ]
    }
   ],
   "source": [
    "#!pip install faker"
   ]
  },
  {
   "cell_type": "code",
   "execution_count": 60,
   "metadata": {},
   "outputs": [],
   "source": [
    "#make users\n",
    "fake=Faker()\n",
    "userdf=pd.DataFrame(columns=['email', 'first_name', 'last_name','phone_number', 'address1', 'address2','city', 'state', 'zipcode'])\n",
    "for i in range(0,1000):\n",
    "    userdf.loc[i]= [fake.email()]+[fake.first_name()]+[fake.last_name()]+[fake.phone_number()]+[fake.street_address()]+[fake.building_number()]+[fake.city()]+[fake.state()]+[fake.zipcode()]\n",
    "\n"
   ]
  },
  {
   "cell_type": "code",
   "execution_count": 61,
   "metadata": {},
   "outputs": [],
   "source": [
    "userdf.to_csv('users.csv', index=False)"
   ]
  },
  {
   "cell_type": "code",
   "execution_count": 15,
   "metadata": {},
   "outputs": [],
   "source": [
    "###make recipes\n",
    "df = pd.DataFrame(columns=['recipe_name', 'description', 'ingredient','instruction'])\n",
    "ingredient= ['Margherita','Cheese','Buffalo','Barbecue','Hotdog','Pepporoni',\n",
    "          'Shrimp','Pinepapple','TOMATO','Pepper', 'Mushroom', 'Sausage', 'Broccoli','Rabe','Ribs','Meatball','Olive','Herb','Fennel',\n",
    "           'Squash', 'Mozzarella']\n"
   ]
  },
  {
   "cell_type": "code",
   "execution_count": 18,
   "metadata": {},
   "outputs": [],
   "source": [
    "from numpy.random import randint\n",
    "for i in range(0, 25):\n",
    "    a=ingredient[np.random.randint(0, len(ingredient))]+', '+ingredient[np.random.randint(0, len(ingredient))]\n",
    "    df.loc[i]=['pizza'+str(i+1)]+['pizza']+['dough, '+a]+['add '+a]"
   ]
  },
  {
   "cell_type": "code",
   "execution_count": 19,
   "metadata": {},
   "outputs": [],
   "source": [
    "df.to_csv('recipe.csv', index=False)"
   ]
  },
  {
   "cell_type": "code",
   "execution_count": 62,
   "metadata": {},
   "outputs": [],
   "source": [
    "##make orders\n",
    "orderdf = pd.DataFrame(columns=['user_id','recipt_id'])\n",
    "for i in range(0,50000):\n",
    "    orderdf.loc[i]=[np.random.randint(0, len(userdf))]+[np.random.randint(0,len(df))]\n"
   ]
  },
  {
   "cell_type": "code",
   "execution_count": 66,
   "metadata": {},
   "outputs": [],
   "source": [
    "orderdf.to_csv('orders.csv', index=False)"
   ]
  },
  {
   "cell_type": "code",
   "execution_count": 64,
   "metadata": {},
   "outputs": [],
   "source": [
    "#make inventory\n",
    "inventorydf=pd.DataFrame(columns=['name', 'description','quantity'])\n",
    "for i in range(0, len(ingredient)):\n",
    "    inventorydf.loc[i]=[ingredient[i]]+['pizza needs']+[10000]"
   ]
  },
  {
   "cell_type": "code",
   "execution_count": 65,
   "metadata": {},
   "outputs": [],
   "source": [
    "inventorydf.to_csv('inventory.csv', index=False)"
   ]
  },
  {
   "cell_type": "code",
   "execution_count": null,
   "metadata": {},
   "outputs": [],
   "source": []
  }
 ],
 "metadata": {
  "kernelspec": {
   "display_name": "Python 3",
   "language": "python",
   "name": "python3"
  },
  "language_info": {
   "codemirror_mode": {
    "name": "ipython",
    "version": 3
   },
   "file_extension": ".py",
   "mimetype": "text/x-python",
   "name": "python",
   "nbconvert_exporter": "python",
   "pygments_lexer": "ipython3",
   "version": "3.7.4"
  }
 },
 "nbformat": 4,
 "nbformat_minor": 2
}
