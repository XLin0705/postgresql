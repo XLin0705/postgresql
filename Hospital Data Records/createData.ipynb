{
 "cells": [
  {
   "cell_type": "code",
   "execution_count": 2,
   "metadata": {},
   "outputs": [],
   "source": [
    "import pandas as pd\n",
    "import numpy as np\n",
    "from faker import Factory,Faker\n",
    "import csv\n",
    "import random"
   ]
  },
  {
   "cell_type": "code",
   "execution_count": 6,
   "metadata": {},
   "outputs": [],
   "source": [
    "#doctors\n",
    "fake=Faker()\n",
    "docdf=pd.DataFrame(columns=['first_name', 'last_name'])\n",
    "for i in range(0,100):\n",
    "    docdf.loc[i]= [fake.first_name()]+[fake.last_name()]"
   ]
  },
  {
   "cell_type": "code",
   "execution_count": 7,
   "metadata": {},
   "outputs": [],
   "source": [
    "docdf.to_csv('doctors.csv', index=False)"
   ]
  },
  {
   "cell_type": "code",
   "execution_count": 9,
   "metadata": {},
   "outputs": [],
   "source": [
    "#patients\n",
    "patients=pd.DataFrame(columns=['first_name', 'last_name'])\n",
    "for i in range(0,10000):\n",
    "    patients.loc[i]= [fake.first_name()]+[fake.last_name()]"
   ]
  },
  {
   "cell_type": "code",
   "execution_count": 10,
   "metadata": {},
   "outputs": [],
   "source": [
    "patients.to_csv('patients.csv', index=False)"
   ]
  },
  {
   "cell_type": "code",
   "execution_count": 15,
   "metadata": {},
   "outputs": [],
   "source": [
    "#treatment\n",
    "treatments=pd.DataFrame(columns=['treatement_name'])\n",
    "for i in range(0,1000):\n",
    "    treatments.loc[i]=['Treatment'+str(i)]"
   ]
  },
  {
   "cell_type": "code",
   "execution_count": 16,
   "metadata": {},
   "outputs": [],
   "source": [
    "treatments.to_csv('treatments.csv',index=False)"
   ]
  },
  {
   "cell_type": "code",
   "execution_count": 17,
   "metadata": {},
   "outputs": [],
   "source": [
    "#illnesses\n",
    "ill=pd.DataFrame(columns=['illness_name'])\n",
    "for i in range(0,1000):\n",
    "    ill.loc[i]=['Illness'+str(i)]"
   ]
  },
  {
   "cell_type": "code",
   "execution_count": 20,
   "metadata": {},
   "outputs": [],
   "source": [
    "ill.to_csv('illnesses.csv',index=False)"
   ]
  },
  {
   "cell_type": "code",
   "execution_count": 87,
   "metadata": {},
   "outputs": [],
   "source": [
    "#a doctor has patients\n",
    "patSeeDoc=pd.DataFrame(columns=['pat_id','doc_id1','doc_id2','doc_id3','doc_id4','doc_id5','isDoc'])\n",
    "for i in range(1,10001):\n",
    "    docs=[]\n",
    "    for j in range(5):\n",
    "        docs.append(random.randint(1,100))\n",
    "    r=random.randint(0,10000)\n",
    "    if r < 100:\n",
    "        isdoc=True\n",
    "    else:\n",
    "        isdoc=False\n",
    "    \n",
    "    patSeeDoc.loc[i]=[str(i)]+[docs[0]]+[docs[1]]+[docs[2]]+[docs[3]]+[docs[4]]+[isdoc]\n"
   ]
  },
  {
   "cell_type": "code",
   "execution_count": 88,
   "metadata": {},
   "outputs": [],
   "source": [
    "patSeeDoc.to_csv('patSeeDoc.csv',index=False)"
   ]
  },
  {
   "cell_type": "code",
   "execution_count": 3,
   "metadata": {},
   "outputs": [],
   "source": [
    "#patient has illness\n",
    "patHasIll=pd.DataFrame(columns=['pat_id','ill_id'])\n",
    "for i in range(1,10001):\n",
    "    patHasIll.loc[i]=[str(i)]+[random.randint(1,1000)]\n"
   ]
  },
  {
   "cell_type": "code",
   "execution_count": 4,
   "metadata": {},
   "outputs": [],
   "source": [
    "patHasIll.to_csv('patHasIll.csv',index=False)"
   ]
  },
  {
   "cell_type": "code",
   "execution_count": 85,
   "metadata": {},
   "outputs": [],
   "source": [
    "#patient receives treatment\n",
    "patHasTreat=pd.DataFrame(columns=['pat_id','treatment_id'])\n",
    "for i in range(1,10001):\n",
    "    patHasTreat.loc[i]=[str(i)]+[random.randint(1,1000)]\n",
    "    \n"
   ]
  },
  {
   "cell_type": "code",
   "execution_count": 92,
   "metadata": {},
   "outputs": [],
   "source": [
    "patHasTreat.to_csv('patHasTreat.csv',index=False)"
   ]
  },
  {
   "cell_type": "code",
   "execution_count": null,
   "metadata": {},
   "outputs": [],
   "source": []
  }
 ],
 "metadata": {
  "kernelspec": {
   "display_name": "Python 3",
   "language": "python",
   "name": "python3"
  },
  "language_info": {
   "codemirror_mode": {
    "name": "ipython",
    "version": 3
   },
   "file_extension": ".py",
   "mimetype": "text/x-python",
   "name": "python",
   "nbconvert_exporter": "python",
   "pygments_lexer": "ipython3",
   "version": "3.7.4"
  }
 },
 "nbformat": 4,
 "nbformat_minor": 2
}
